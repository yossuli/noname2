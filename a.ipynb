{
 "cells": [
  {
   "cell_type": "code",
   "execution_count": 15,
   "metadata": {},
   "outputs": [
    {
     "name": "stdout",
     "output_type": "stream",
     "text": [
      "{\"body\": [{\"name\": \"index\", \"args\": {\"posonlyargs\": [], \"args\": [{\"arg\": \"request\", \"annotation\": null, \"type_comment\": null, \"nodeType\": \"arg\"}], \"vararg\": null, \"kwonlyargs\": [], \"kw_defaults\": [], \"kwarg\": null, \"defaults\": [], \"nodeType\": \"arguments\"}, \"body\": [{\"test\": {\"id\": \"a\", \"ctx\": {\"nodeType\": \"Load\"}, \"nodeType\": \"Name\"}, \"body\": [{\"test\": {\"id\": \"b\", \"ctx\": {\"nodeType\": \"Load\"}, \"nodeType\": \"Name\"}, \"body\": [{\"value\": {\"func\": {\"id\": \"render\", \"ctx\": {\"nodeType\": \"Load\"}, \"nodeType\": \"Name\"}, \"args\": [{\"id\": \"request\", \"ctx\": {\"nodeType\": \"Load\"}, \"nodeType\": \"Name\"}, {\"value\": \"djangoApp/index3.html\", \"kind\": null, \"nodeType\": \"Constant\"}], \"keywords\": [], \"nodeType\": \"Call\"}, \"nodeType\": \"Return\"}], \"orelse\": [], \"nodeType\": \"If\"}, {\"targets\": [{\"id\": \"context\", \"ctx\": {\"nodeType\": \"Store\"}, \"nodeType\": \"Name\"}], \"value\": {\"keys\": [{\"value\": \"test2_1\", \"kind\": null, \"nodeType\": \"Constant\"}, {\"value\": \"test2_2\", \"kind\": null, \"nodeType\": \"Constant\"}], \"values\": [{\"value\": \"value\", \"kind\": null, \"nodeType\": \"Constant\"}, {\"value\": \"value\", \"kind\": null, \"nodeType\": \"Constant\"}], \"nodeType\": \"Dict\"}, \"type_comment\": null, \"nodeType\": \"Assign\"}, {\"value\": {\"func\": {\"id\": \"render\", \"ctx\": {\"nodeType\": \"Load\"}, \"nodeType\": \"Name\"}, \"args\": [{\"id\": \"request\", \"ctx\": {\"nodeType\": \"Load\"}, \"nodeType\": \"Name\"}, {\"value\": \"djangoApp/index2.html\", \"kind\": null, \"nodeType\": \"Constant\"}, {\"id\": \"context\", \"ctx\": {\"nodeType\": \"Load\"}, \"nodeType\": \"Name\"}], \"keywords\": [], \"nodeType\": \"Call\"}, \"nodeType\": \"Return\"}], \"orelse\": [], \"nodeType\": \"If\"}, {\"targets\": [{\"id\": \"context\", \"ctx\": {\"nodeType\": \"Store\"}, \"nodeType\": \"Name\"}], \"value\": {\"keys\": [{\"value\": \"test1\", \"kind\": null, \"nodeType\": \"Constant\"}], \"values\": [{\"value\": \"value\", \"kind\": null, \"nodeType\": \"Constant\"}], \"nodeType\": \"Dict\"}, \"type_comment\": null, \"nodeType\": \"Assign\"}, {\"value\": {\"func\": {\"id\": \"render\", \"ctx\": {\"nodeType\": \"Load\"}, \"nodeType\": \"Name\"}, \"args\": [{\"id\": \"request\", \"ctx\": {\"nodeType\": \"Load\"}, \"nodeType\": \"Name\"}, {\"value\": \"djangoApp/index.html\", \"kind\": null, \"nodeType\": \"Constant\"}, {\"id\": \"context\", \"ctx\": {\"nodeType\": \"Load\"}, \"nodeType\": \"Name\"}], \"keywords\": [], \"nodeType\": \"Call\"}, \"nodeType\": \"Return\"}], \"decorator_list\": [], \"returns\": null, \"type_comment\": null, \"nodeType\": \"FunctionDef\"}], \"type_ignores\": [], \"nodeType\": \"Module\"}\n"
     ]
    }
   ],
   "source": [
    "import ast\n",
    "import json\n",
    "\n",
    "\n",
    "def ast_to_json(node):\n",
    "    if isinstance(node, ast.AST):\n",
    "        field = {field: ast_to_json(getattr(node, field)) for field in node._fields}\n",
    "        field[\"nodeType\"] = type(node).__name__\n",
    "        return field\n",
    "    elif isinstance(node, list):\n",
    "        return [ast_to_json(item) for item in node]\n",
    "    else:\n",
    "        return node\n",
    "\n",
    "\n",
    "a = \"\"\"\n",
    "# pyright: reportUndefinedVariable=false\n",
    "def index(request):\n",
    "    if a:\n",
    "        if b:\n",
    "            return render(request,'djangoApp/index3.html')\n",
    "        context={'test2_1':'value','test2_2':'value'}\n",
    "        return render(request,'djangoApp/index2.html',context)\n",
    "    context={'test1':'value'}\n",
    "    return render(request,'djangoApp/index.html',context)\"\"\"\n",
    "\n",
    "print(json.dumps(ast_to_json(ast.parse(a))))"
   ]
  }
 ],
 "metadata": {
  "kernelspec": {
   "display_name": "venv",
   "language": "python",
   "name": "python3"
  },
  "language_info": {
   "codemirror_mode": {
    "name": "ipython",
    "version": 3
   },
   "file_extension": ".py",
   "mimetype": "text/x-python",
   "name": "python",
   "nbconvert_exporter": "python",
   "pygments_lexer": "ipython3",
   "version": "3.11.7"
  }
 },
 "nbformat": 4,
 "nbformat_minor": 2
}
